{
 "cells": [
  {
   "cell_type": "markdown",
   "metadata": {},
   "source": [
    "<img src=\"https://www.ikiam.edu.ec/img/logo-ikiam-grey.png\" width=300 height=240 />\n",
    "\n",
    "# EXAMEN PARCIAL PYTHON\n",
    "    \n",
    "\n",
    "## GBI6-2021II: BIOINFORMÁTICA\n",
    "\n",
    "**Sánchez Chicaiza, Jefferson Miguel** \n",
    "\n",
    "**22-02-2021**"
   ]
  },
  {
   "cell_type": "markdown",
   "metadata": {},
   "source": [
    "### REQUERIMIENTOS PARA EL EXAMEN\n",
    "Para este examen se requiere dos documentos: \n",
    "\n",
    "1. Archivo ```miningscience.py``` donde tendrá dos funciones:\n",
    "\n",
    "2. Archivo ```2021II_GBI6_ExamenParcialPython``` donde se llamará las funciones y se obtendrá resultados."
   ]
  },
  {
   "cell_type": "markdown",
   "metadata": {},
   "source": [
    "## Ejercicio 1 [2 puntos]\n",
    "Cree el archivo ```miningscience.py``` con las siguientes dos funciones:\n",
    "    \n",
    "i. ```download_pubmed```: para descargar la data de PubMed utilizando el **ENTREZ** de Biopython. El parámetro de entrada para la función es el ```keyword```. \n",
    "    \n",
    "ii. ```mining_pubs```: esta función debe utilizar el módulo **re** y utilizar el párametro ```tipo``` para realizar lo siguiente:\n",
    "        \n",
    "* Si el tipo es \"DP\" recupera el año de publicación del artículo. El retorno es un *dataframe* con el **PMID** y el **DP_year**.\n",
    "      \n",
    "* Si el tipo es \"AU\" recupera el número de autores por **PMID**. El retorno es un *dataframe* con el **PMID** y el **num_auth**. \n",
    "      \n",
    "* Si el tipo es \"AD\" recupera el conteo de autores por país. El retorno es un *dataframe* con el **country** y el **num_auth**. \n",
    "\n",
    "* *Puede utilizar un ```if``` dentro de la función.* \n",
    "\n",
    "* *Cree un docstring para cada función.* \n",
    "\n",
    "Luego de crear las funciones, cargue el módulo ```miningscience``` como ```msc``` e imprima docstring de cada función.\n",
    "\n",
    "\n"
   ]
  },
  {
   "cell_type": "code",
   "execution_count": 8,
   "metadata": {},
   "outputs": [
    {
     "name": "stdout",
     "output_type": "stream",
     "text": [
      "Requirement already satisfied: biopython in /home/jeffo/anaconda3/lib/python3.9/site-packages (1.79)\n",
      "Requirement already satisfied: numpy in /home/jeffo/anaconda3/lib/python3.9/site-packages (from biopython) (1.20.3)\n",
      "Requirement already satisfied: reportlab in /home/jeffo/anaconda3/lib/python3.9/site-packages (3.6.7)\n",
      "Requirement already satisfied: pillow>=4.0.0 in /home/jeffo/anaconda3/lib/python3.9/site-packages (from reportlab) (8.4.0)\n",
      "Requirement already satisfied: nglview in /home/jeffo/anaconda3/lib/python3.9/site-packages (3.0.3)\n",
      "Requirement already satisfied: ipywidgets>=7 in /home/jeffo/anaconda3/lib/python3.9/site-packages (from nglview) (7.6.5)\n",
      "Requirement already satisfied: numpy in /home/jeffo/anaconda3/lib/python3.9/site-packages (from nglview) (1.20.3)\n",
      "Requirement already satisfied: jupyterlab-widgets in /home/jeffo/anaconda3/lib/python3.9/site-packages (from nglview) (1.0.0)\n",
      "Requirement already satisfied: ipython>=4.0.0 in /home/jeffo/anaconda3/lib/python3.9/site-packages (from ipywidgets>=7->nglview) (7.29.0)\n",
      "Requirement already satisfied: ipython-genutils~=0.2.0 in /home/jeffo/anaconda3/lib/python3.9/site-packages (from ipywidgets>=7->nglview) (0.2.0)\n",
      "Requirement already satisfied: nbformat>=4.2.0 in /home/jeffo/anaconda3/lib/python3.9/site-packages (from ipywidgets>=7->nglview) (5.1.3)\n",
      "Requirement already satisfied: ipykernel>=4.5.1 in /home/jeffo/anaconda3/lib/python3.9/site-packages (from ipywidgets>=7->nglview) (6.4.1)\n",
      "Requirement already satisfied: traitlets>=4.3.1 in /home/jeffo/anaconda3/lib/python3.9/site-packages (from ipywidgets>=7->nglview) (5.1.0)\n",
      "Requirement already satisfied: widgetsnbextension~=3.5.0 in /home/jeffo/anaconda3/lib/python3.9/site-packages (from ipywidgets>=7->nglview) (3.5.1)\n",
      "Requirement already satisfied: tornado<7.0,>=4.2 in /home/jeffo/anaconda3/lib/python3.9/site-packages (from ipykernel>=4.5.1->ipywidgets>=7->nglview) (6.1)\n",
      "Requirement already satisfied: jupyter-client<8.0 in /home/jeffo/anaconda3/lib/python3.9/site-packages (from ipykernel>=4.5.1->ipywidgets>=7->nglview) (6.1.12)\n",
      "Requirement already satisfied: debugpy<2.0,>=1.0.0 in /home/jeffo/anaconda3/lib/python3.9/site-packages (from ipykernel>=4.5.1->ipywidgets>=7->nglview) (1.4.1)\n",
      "Requirement already satisfied: matplotlib-inline<0.2.0,>=0.1.0 in /home/jeffo/anaconda3/lib/python3.9/site-packages (from ipykernel>=4.5.1->ipywidgets>=7->nglview) (0.1.2)\n",
      "Requirement already satisfied: jedi>=0.16 in /home/jeffo/anaconda3/lib/python3.9/site-packages (from ipython>=4.0.0->ipywidgets>=7->nglview) (0.18.0)\n",
      "Requirement already satisfied: prompt-toolkit!=3.0.0,!=3.0.1,<3.1.0,>=2.0.0 in /home/jeffo/anaconda3/lib/python3.9/site-packages (from ipython>=4.0.0->ipywidgets>=7->nglview) (3.0.20)\n",
      "Requirement already satisfied: pygments in /home/jeffo/anaconda3/lib/python3.9/site-packages (from ipython>=4.0.0->ipywidgets>=7->nglview) (2.10.0)\n",
      "Requirement already satisfied: decorator in /home/jeffo/anaconda3/lib/python3.9/site-packages (from ipython>=4.0.0->ipywidgets>=7->nglview) (5.1.0)\n",
      "Requirement already satisfied: setuptools>=18.5 in /home/jeffo/anaconda3/lib/python3.9/site-packages (from ipython>=4.0.0->ipywidgets>=7->nglview) (58.0.4)\n",
      "Requirement already satisfied: pexpect>4.3 in /home/jeffo/anaconda3/lib/python3.9/site-packages (from ipython>=4.0.0->ipywidgets>=7->nglview) (4.8.0)\n",
      "Requirement already satisfied: backcall in /home/jeffo/anaconda3/lib/python3.9/site-packages (from ipython>=4.0.0->ipywidgets>=7->nglview) (0.2.0)\n",
      "Requirement already satisfied: pickleshare in /home/jeffo/anaconda3/lib/python3.9/site-packages (from ipython>=4.0.0->ipywidgets>=7->nglview) (0.7.5)\n",
      "Requirement already satisfied: parso<0.9.0,>=0.8.0 in /home/jeffo/anaconda3/lib/python3.9/site-packages (from jedi>=0.16->ipython>=4.0.0->ipywidgets>=7->nglview) (0.8.2)\n",
      "Requirement already satisfied: jupyter-core>=4.6.0 in /home/jeffo/anaconda3/lib/python3.9/site-packages (from jupyter-client<8.0->ipykernel>=4.5.1->ipywidgets>=7->nglview) (4.8.1)\n",
      "Requirement already satisfied: python-dateutil>=2.1 in /home/jeffo/anaconda3/lib/python3.9/site-packages (from jupyter-client<8.0->ipykernel>=4.5.1->ipywidgets>=7->nglview) (2.8.2)\n",
      "Requirement already satisfied: pyzmq>=13 in /home/jeffo/anaconda3/lib/python3.9/site-packages (from jupyter-client<8.0->ipykernel>=4.5.1->ipywidgets>=7->nglview) (22.2.1)\n",
      "Requirement already satisfied: jsonschema!=2.5.0,>=2.4 in /home/jeffo/anaconda3/lib/python3.9/site-packages (from nbformat>=4.2.0->ipywidgets>=7->nglview) (3.2.0)\n",
      "Requirement already satisfied: pyrsistent>=0.14.0 in /home/jeffo/anaconda3/lib/python3.9/site-packages (from jsonschema!=2.5.0,>=2.4->nbformat>=4.2.0->ipywidgets>=7->nglview) (0.18.0)\n",
      "Requirement already satisfied: six>=1.11.0 in /home/jeffo/anaconda3/lib/python3.9/site-packages (from jsonschema!=2.5.0,>=2.4->nbformat>=4.2.0->ipywidgets>=7->nglview) (1.16.0)\n",
      "Requirement already satisfied: attrs>=17.4.0 in /home/jeffo/anaconda3/lib/python3.9/site-packages (from jsonschema!=2.5.0,>=2.4->nbformat>=4.2.0->ipywidgets>=7->nglview) (21.2.0)\n",
      "Requirement already satisfied: ptyprocess>=0.5 in /home/jeffo/anaconda3/lib/python3.9/site-packages (from pexpect>4.3->ipython>=4.0.0->ipywidgets>=7->nglview) (0.7.0)\n",
      "Requirement already satisfied: wcwidth in /home/jeffo/anaconda3/lib/python3.9/site-packages (from prompt-toolkit!=3.0.0,!=3.0.1,<3.1.0,>=2.0.0->ipython>=4.0.0->ipywidgets>=7->nglview) (0.2.5)\n",
      "Requirement already satisfied: notebook>=4.4.1 in /home/jeffo/anaconda3/lib/python3.9/site-packages (from widgetsnbextension~=3.5.0->ipywidgets>=7->nglview) (6.4.5)\n",
      "Requirement already satisfied: argon2-cffi in /home/jeffo/anaconda3/lib/python3.9/site-packages (from notebook>=4.4.1->widgetsnbextension~=3.5.0->ipywidgets>=7->nglview) (20.1.0)\n",
      "Requirement already satisfied: Send2Trash>=1.5.0 in /home/jeffo/anaconda3/lib/python3.9/site-packages (from notebook>=4.4.1->widgetsnbextension~=3.5.0->ipywidgets>=7->nglview) (1.8.0)\n",
      "Requirement already satisfied: prometheus-client in /home/jeffo/anaconda3/lib/python3.9/site-packages (from notebook>=4.4.1->widgetsnbextension~=3.5.0->ipywidgets>=7->nglview) (0.11.0)\n",
      "Requirement already satisfied: jinja2 in /home/jeffo/anaconda3/lib/python3.9/site-packages (from notebook>=4.4.1->widgetsnbextension~=3.5.0->ipywidgets>=7->nglview) (2.11.3)\n",
      "Requirement already satisfied: nbconvert in /home/jeffo/anaconda3/lib/python3.9/site-packages (from notebook>=4.4.1->widgetsnbextension~=3.5.0->ipywidgets>=7->nglview) (6.1.0)\n",
      "Requirement already satisfied: terminado>=0.8.3 in /home/jeffo/anaconda3/lib/python3.9/site-packages (from notebook>=4.4.1->widgetsnbextension~=3.5.0->ipywidgets>=7->nglview) (0.9.4)\n",
      "Requirement already satisfied: cffi>=1.0.0 in /home/jeffo/anaconda3/lib/python3.9/site-packages (from argon2-cffi->notebook>=4.4.1->widgetsnbextension~=3.5.0->ipywidgets>=7->nglview) (1.14.6)\n",
      "Requirement already satisfied: pycparser in /home/jeffo/anaconda3/lib/python3.9/site-packages (from cffi>=1.0.0->argon2-cffi->notebook>=4.4.1->widgetsnbextension~=3.5.0->ipywidgets>=7->nglview) (2.20)\n",
      "Requirement already satisfied: MarkupSafe>=0.23 in /home/jeffo/anaconda3/lib/python3.9/site-packages (from jinja2->notebook>=4.4.1->widgetsnbextension~=3.5.0->ipywidgets>=7->nglview) (1.1.1)\n",
      "Requirement already satisfied: nbclient<0.6.0,>=0.5.0 in /home/jeffo/anaconda3/lib/python3.9/site-packages (from nbconvert->notebook>=4.4.1->widgetsnbextension~=3.5.0->ipywidgets>=7->nglview) (0.5.3)\n",
      "Requirement already satisfied: mistune<2,>=0.8.1 in /home/jeffo/anaconda3/lib/python3.9/site-packages (from nbconvert->notebook>=4.4.1->widgetsnbextension~=3.5.0->ipywidgets>=7->nglview) (0.8.4)\n",
      "Requirement already satisfied: entrypoints>=0.2.2 in /home/jeffo/anaconda3/lib/python3.9/site-packages (from nbconvert->notebook>=4.4.1->widgetsnbextension~=3.5.0->ipywidgets>=7->nglview) (0.3)\n",
      "Requirement already satisfied: defusedxml in /home/jeffo/anaconda3/lib/python3.9/site-packages (from nbconvert->notebook>=4.4.1->widgetsnbextension~=3.5.0->ipywidgets>=7->nglview) (0.7.1)\n",
      "Requirement already satisfied: jupyterlab-pygments in /home/jeffo/anaconda3/lib/python3.9/site-packages (from nbconvert->notebook>=4.4.1->widgetsnbextension~=3.5.0->ipywidgets>=7->nglview) (0.1.2)\n",
      "Requirement already satisfied: bleach in /home/jeffo/anaconda3/lib/python3.9/site-packages (from nbconvert->notebook>=4.4.1->widgetsnbextension~=3.5.0->ipywidgets>=7->nglview) (4.0.0)\n",
      "Requirement already satisfied: testpath in /home/jeffo/anaconda3/lib/python3.9/site-packages (from nbconvert->notebook>=4.4.1->widgetsnbextension~=3.5.0->ipywidgets>=7->nglview) (0.5.0)\n",
      "Requirement already satisfied: pandocfilters>=1.4.1 in /home/jeffo/anaconda3/lib/python3.9/site-packages (from nbconvert->notebook>=4.4.1->widgetsnbextension~=3.5.0->ipywidgets>=7->nglview) (1.4.3)\n"
     ]
    },
    {
     "name": "stdout",
     "output_type": "stream",
     "text": [
      "Requirement already satisfied: nest-asyncio in /home/jeffo/anaconda3/lib/python3.9/site-packages (from nbclient<0.6.0,>=0.5.0->nbconvert->notebook>=4.4.1->widgetsnbextension~=3.5.0->ipywidgets>=7->nglview) (1.5.1)\n",
      "Requirement already satisfied: async-generator in /home/jeffo/anaconda3/lib/python3.9/site-packages (from nbclient<0.6.0,>=0.5.0->nbconvert->notebook>=4.4.1->widgetsnbextension~=3.5.0->ipywidgets>=7->nglview) (1.10)\n",
      "Requirement already satisfied: packaging in /home/jeffo/anaconda3/lib/python3.9/site-packages (from bleach->nbconvert->notebook>=4.4.1->widgetsnbextension~=3.5.0->ipywidgets>=7->nglview) (21.0)\n",
      "Requirement already satisfied: webencodings in /home/jeffo/anaconda3/lib/python3.9/site-packages (from bleach->nbconvert->notebook>=4.4.1->widgetsnbextension~=3.5.0->ipywidgets>=7->nglview) (0.5.1)\n",
      "Requirement already satisfied: pyparsing>=2.0.2 in /home/jeffo/anaconda3/lib/python3.9/site-packages (from packaging->bleach->nbconvert->notebook>=4.4.1->widgetsnbextension~=3.5.0->ipywidgets>=7->nglview) (3.0.4)\n"
     ]
    }
   ],
   "source": [
    "!pip install biopython\n",
    "!pip install reportlab\n",
    "!pip install nglview\n",
    "from Bio import Entrez\n",
    "from Bio import SeqIO\n",
    "import re\n",
    "import csv \n",
    "import re\n",
    "import pandas as pd \n",
    "from collections import Counter"
   ]
  },
  {
   "cell_type": "code",
   "execution_count": 12,
   "metadata": {},
   "outputs": [
    {
     "name": "stdout",
     "output_type": "stream",
     "text": [
      "Help on module miningscience:\n",
      "\n",
      "NAME\n",
      "    miningscience\n",
      "\n",
      "FUNCTIONS\n",
      "    download_pubmed(keyword)\n",
      "    \n",
      "    mining_pubs(tipo)\n",
      "\n",
      "FILE\n",
      "    /home/jeffo/Documentos/GitHub/E2_ExamenParcial_Python/miningscience.py\n",
      "\n",
      "\n"
     ]
    }
   ],
   "source": [
    "import miningscience as msc\n",
    "msc.download_pubmed\n",
    "msc.mining_pubs\n",
    "help(msc)\n"
   ]
  },
  {
   "cell_type": "markdown",
   "metadata": {},
   "source": [
    "\n",
    "## Ejercicio 2 [1 punto]\n",
    "\n",
    "\n",
    "Utilice la función ```download_pubmed``` para descargar la data con el keyword ```Ecuador genomics``` e imprima lo siguiente: \n",
    "\n",
    "```python\n",
    "'El número de artículos es: xx' # xx corresponde al número de artículos recuperados\n",
    "\n",
    "'El PMID del primer artículo es: xxxxxxxx' # xxxxxxxx corresponde al ID del artículo en PUDMED\n",
    "\n",
    "```"
   ]
  },
  {
   "cell_type": "code",
   "execution_count": 30,
   "metadata": {},
   "outputs": [
    {
     "name": "stdout",
     "output_type": "stream",
     "text": [
      "El número de artículos es:\n",
      "55\n",
      "El PMID es:\n",
      "['PMID: 33574202']\n"
     ]
    }
   ],
   "source": [
    "keyword = \"Ecuador Genomics\" #definir key words\n",
    "import miningscience as msc\n",
    "pr= msc.download_pubmed\n",
    "pr(keyword)\n",
    "\n",
    "with open('./pubmed-EcuadorGen-set.txt', encoding=\"utf8\") as f:\n",
    "    my_text = f.read()\n",
    "\n",
    "my_text = re.sub(r'\\n\\s{6}', ' ', my_text)\n",
    "\n",
    "m = re.findall(r\"(PMID:\\s\\w+)\", my_text)\n",
    "print('El PMID es:')\n",
    "print(m[:1])"
   ]
  },
  {
   "cell_type": "markdown",
   "metadata": {},
   "source": [
    "## Ejercicio 3 [1 punto]\n",
    "\n",
    "Utilice la función ```mining_pubs``` para crear los siguientes dataframes: \n",
    "\n",
    "* pub_year\n",
    "\n",
    "* pub_authors\n",
    "\n",
    "* coutries\n",
    "\n",
    "Muestre los dos primeros y los dos últimos registros de cada dataframe. "
   ]
  },
  {
   "cell_type": "code",
   "execution_count": 2,
   "metadata": {},
   "outputs": [],
   "source": [
    "# Escriba aquí su código para el ejercicio 3"
   ]
  },
  {
   "cell_type": "markdown",
   "metadata": {
    "jp-MarkdownHeadingCollapsed": true,
    "tags": []
   },
   "source": [
    "## Ejercicio 4 [2 puntos]\n",
    "\n",
    "Realice la visualización de los datos del ejercicio 3. \n",
    "\n",
    "* ```pubyear```: utilizando el conteo artículos por año, calcule la media y la desviación estandar (asumiendo que la distribución es normal). Realice un gráfico de la distribución normal de sus datos. Coloque el título, leyenda de los ejes \"x\" e \"y\", y la leyenda de la curva (utilice las expresiones matemáticas tipos latex de ser necesario). \n",
    "\n",
    "* ```pub_authors```: realice un boxplot del conteo de autores por artículo. Coloque las leyendas adecuadas para cada eje y el título.  \n",
    "\n",
    "* ```countries```: realice una nube de puntos (adaptación de su tarea), resalte al menos 3 países con flechas. Coloque las leyendas adecuadas para cada eje y el título. \n"
   ]
  },
  {
   "cell_type": "code",
   "execution_count": 4,
   "metadata": {},
   "outputs": [],
   "source": [
    "# Escriba aquí su código para el ejercicio 4"
   ]
  },
  {
   "cell_type": "markdown",
   "metadata": {},
   "source": [
    "## Ejercicio 5 [1 punto]\n",
    "\n",
    "Interprete los resultados del **ejercicio 4**"
   ]
  },
  {
   "cell_type": "markdown",
   "metadata": {},
   "source": [
    "### Escriba la respuesta del ejercicio 5\n"
   ]
  },
  {
   "cell_type": "markdown",
   "metadata": {},
   "source": [
    "## Ejercicio 6 [2 puntos]\n",
    "\n",
    "Para algún gen de interés, realice lo siguiente: \n",
    "\n",
    "1. Una búsqueda en la página del [NCBI nucleotide](https://www.ncbi.nlm.nih.gov/nucleotide/).\n",
    "\n",
    "2. Descargue el ```Accession List``` de su búsqueda.\n",
    "\n",
    "3. Cargue el ```Accession List``` en este notebook y haga una descarga de la data tipo ```genbank``` utilizando los diez primeros IDs de accesión. \n",
    "\n",
    "4. Arme un árbol filogenético para los resultados del paso 3.\n",
    "\n",
    "5. Interprete el árbol del paso 4. "
   ]
  },
  {
   "cell_type": "code",
   "execution_count": 5,
   "metadata": {},
   "outputs": [],
   "source": [
    "# Escriba aquí su código para el ejercicio 6\n",
    "\n"
   ]
  },
  {
   "cell_type": "markdown",
   "metadata": {},
   "source": [
    "**Escriba aquí la interpretación del árbol**"
   ]
  },
  {
   "cell_type": "markdown",
   "metadata": {},
   "source": [
    "## Ejercicio 7 [1 punto]\n",
    "\n",
    "\n",
    "1. Cree en GitHub un repositorio de nombre ```GBI6_ExamenPython```. \n",
    "2. Cree un archivo ```Readme.md``` que debe tener lo siguiente: \n",
    "- Datos personales\n",
    "- Características del computador\n",
    "- Versión de Python/Anaconda y de cada uno de los módulos/paquetes y utilizados\n",
    "- Explicación de la data utilizada\n",
    "\n",
    "3. Cree un directorio de nombre ```data``` donde deben estar guardado la data utilizada \n",
    "4. Realice al menos 1 control de la versión (commits) por cada ejercicio (del 1 al 6), con un mensaje que inicie como: \n",
    "\n",
    "```sh \n",
    "Carlitos Alimaña ha realizado .....  \n",
    "```"
   ]
  }
 ],
 "metadata": {
  "kernelspec": {
   "display_name": "Python 3 (ipykernel)",
   "language": "python",
   "name": "python3"
  },
  "language_info": {
   "codemirror_mode": {
    "name": "ipython",
    "version": 3
   },
   "file_extension": ".py",
   "mimetype": "text/x-python",
   "name": "python",
   "nbconvert_exporter": "python",
   "pygments_lexer": "ipython3",
   "version": "3.9.7"
  },
  "latex_envs": {
   "LaTeX_envs_menu_present": true,
   "autoclose": false,
   "autocomplete": true,
   "bibliofile": "biblio.bib",
   "cite_by": "apalike",
   "current_citInitial": 1,
   "eqLabelWithNumbers": true,
   "eqNumInitial": 1,
   "hotkeys": {
    "equation": "Ctrl-E",
    "itemize": "Ctrl-I"
   },
   "labels_anchors": false,
   "latex_user_defs": false,
   "report_style_numbering": false,
   "user_envs_cfg": false
  },
  "toc": {
   "base_numbering": 1,
   "nav_menu": {},
   "number_sections": true,
   "sideBar": false,
   "skip_h1_title": false,
   "title_cell": "Table of Contents",
   "title_sidebar": "Contents",
   "toc_cell": false,
   "toc_position": {
    "height": "1152.67px",
    "left": "41px",
    "top": "110px",
    "width": "253.458px"
   },
   "toc_section_display": true,
   "toc_window_display": false
  },
  "varInspector": {
   "cols": {
    "lenName": 16,
    "lenType": 16,
    "lenVar": 40
   },
   "kernels_config": {
    "python": {
     "delete_cmd_postfix": "",
     "delete_cmd_prefix": "del ",
     "library": "var_list.py",
     "varRefreshCmd": "print(var_dic_list())"
    },
    "r": {
     "delete_cmd_postfix": ") ",
     "delete_cmd_prefix": "rm(",
     "library": "var_list.r",
     "varRefreshCmd": "cat(var_dic_list()) "
    }
   },
   "types_to_exclude": [
    "module",
    "function",
    "builtin_function_or_method",
    "instance",
    "_Feature"
   ],
   "window_display": false
  }
 },
 "nbformat": 4,
 "nbformat_minor": 4
}
