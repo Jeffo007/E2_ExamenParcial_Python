{
 "cells": [
  {
   "cell_type": "code",
   "execution_count": null,
   "id": "ccadbd73",
   "metadata": {},
   "outputs": [],
   "source": [
    "import Bio\n",
    "from Bio.Seq import Seq\n",
    "# cargar biopython o sus módulo, funciones\n",
    "from Bio import Entrez\n",
    "import re\n",
    "\n",
    "# Always tell NCBI who you are (edit the e-mail below!)\n",
    "Entrez.email = \"jefferson.sanchez@est.ikiam.edu.ec\"\n",
    "handle = Entrez.esearch(db=\"pubmed\", \n",
    "                        term=\"Ecuador proteomics[Title/Abstract]\",\n",
    "                        usehistory=\"y\")\n",
    "record = Entrez.read(handle)\n",
    "# generate a Python list with all Pubmed IDs of articles about \n",
    "id_list = record[\"IdList\"]\n",
    "print(record[\"Count\"])\n",
    "webenv = record[\"WebEnv\"]\n",
    "query_key = record[\"QueryKey\"]\n",
    "handle = Entrez.efetch(db=\"pubmed\",\n",
    "                       rettype=\"medline\", \n",
    "                       retmode=\"text\", \n",
    "                       retstart=0,\n",
    "retmax=543, webenv=webenv, query_key=query_key)\n",
    "\n",
    "out_handle = open(\"../pubmed-ferrooxida.txt\", \"w\")\n",
    "data = handle.read()\n",
    "handle.close()\n",
    "out_handle.write(data)\n",
    "out_handle.close()\n",
    "\n",
    "\n",
    "# Contribución de los autores\n",
    "with open(\"../pubmed-ferrooxida.txt\") as datafile:\n",
    "    a = datafile.readlines(140)\n",
    "    print(a)"
   ]
  },
  {
   "cell_type": "code",
   "execution_count": null,
   "id": "d9900cec",
   "metadata": {},
   "outputs": [],
   "source": [
    "import os\n",
    "os.getcwd()"
   ]
  }
 ],
 "metadata": {
  "kernelspec": {
   "display_name": "Python 3 (ipykernel)",
   "language": "python",
   "name": "python3"
  },
  "language_info": {
   "codemirror_mode": {
    "name": "ipython",
    "version": 3
   },
   "file_extension": ".py",
   "mimetype": "text/x-python",
   "name": "python",
   "nbconvert_exporter": "python",
   "pygments_lexer": "ipython3",
   "version": "3.9.7"
  }
 },
 "nbformat": 4,
 "nbformat_minor": 5
}
